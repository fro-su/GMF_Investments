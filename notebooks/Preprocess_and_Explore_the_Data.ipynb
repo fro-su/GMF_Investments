{
 "cells": [
  {
   "cell_type": "code",
   "execution_count": 2,
   "metadata": {},
   "outputs": [],
   "source": [
    "import yfinance as yf\n",
    "import pandas as pd\n",
    "import numpy as np\n",
    "import matplotlib.pyplot as plt\n",
    "import seaborn as sns\n",
    "from statsmodels.tsa.seasonal import seasonal_decompose\n"
   ]
  },
  {
   "cell_type": "markdown",
   "metadata": {},
   "source": [
    "Data Extraction and Loading"
   ]
  },
  {
   "cell_type": "code",
   "execution_count": 3,
   "metadata": {},
   "outputs": [],
   "source": [
    "# Set the display options\n",
    "pd.options.display.float_format = '{:.2f}'.format\n"
   ]
  },
  {
   "cell_type": "code",
   "execution_count": 4,
   "metadata": {},
   "outputs": [],
   "source": [
    "# Define the tickers and date range\n",
    "tickers = ['TSLA', 'BND', 'SPY']\n",
    "start_date = '2015-01-01'\n",
    "end_date = '2024-10-31'"
   ]
  },
  {
   "cell_type": "code",
   "execution_count": 5,
   "metadata": {},
   "outputs": [
    {
     "name": "stderr",
     "output_type": "stream",
     "text": [
      "[*********************100%***********************]  3 of 3 completed\n"
     ]
    }
   ],
   "source": [
    "# Fetch data from yfinance\n",
    "data = yf.download(tickers, start=start_date, end=end_date)\n"
   ]
  },
  {
   "cell_type": "code",
   "execution_count": 6,
   "metadata": {},
   "outputs": [
    {
     "name": "stdout",
     "output_type": "stream",
     "text": [
      "Price                     Adj Close              Close               High  \\\n",
      "Ticker                          BND    SPY  TSLA   BND    SPY  TSLA   BND   \n",
      "Date                                                                        \n",
      "2015-01-02 00:00:00+00:00     63.36 173.17 14.62 82.65 205.43 14.62 82.69   \n",
      "2015-01-05 00:00:00+00:00     63.54 170.05 14.01 82.89 201.72 14.01 82.92   \n",
      "2015-01-06 00:00:00+00:00     63.73 168.44 14.09 83.13 199.82 14.09 83.38   \n",
      "2015-01-07 00:00:00+00:00     63.77 170.54 14.06 83.18 202.31 14.06 83.28   \n",
      "2015-01-08 00:00:00+00:00     63.67 173.57 14.04 83.05 205.90 14.04 83.11   \n",
      "\n",
      "Price                                    Low               Open               \\\n",
      "Ticker                       SPY  TSLA   BND    SPY  TSLA   BND    SPY  TSLA   \n",
      "Date                                                                           \n",
      "2015-01-02 00:00:00+00:00 206.88 14.88 82.42 204.18 14.22 82.43 206.38 14.86   \n",
      "2015-01-05 00:00:00+00:00 204.37 14.43 82.70 201.35 13.81 82.74 204.17 14.30   \n",
      "2015-01-06 00:00:00+00:00 202.72 14.28 83.03 198.86 13.61 83.03 202.09 14.00   \n",
      "2015-01-07 00:00:00+00:00 202.72 14.32 83.05 200.88 13.99 83.14 201.42 14.22   \n",
      "2015-01-08 00:00:00+00:00 206.16 14.25 82.97 203.99 14.00 83.11 204.01 14.19   \n",
      "\n",
      "Price                       Volume                       \n",
      "Ticker                         BND        SPY      TSLA  \n",
      "Date                                                     \n",
      "2015-01-02 00:00:00+00:00  2218800  121465900  71466000  \n",
      "2015-01-05 00:00:00+00:00  5820100  169632600  80527500  \n",
      "2015-01-06 00:00:00+00:00  3887600  209151400  93928500  \n",
      "2015-01-07 00:00:00+00:00  2433400  125346700  44526000  \n",
      "2015-01-08 00:00:00+00:00  1873400  147217800  51637500  \n"
     ]
    }
   ],
   "source": [
    "# Display the first few rows of the data\n",
    "print(data.head())"
   ]
  }
 ],
 "metadata": {
  "kernelspec": {
   "display_name": ".venv_gmf",
   "language": "python",
   "name": "python3"
  },
  "language_info": {
   "codemirror_mode": {
    "name": "ipython",
    "version": 3
   },
   "file_extension": ".py",
   "mimetype": "text/x-python",
   "name": "python",
   "nbconvert_exporter": "python",
   "pygments_lexer": "ipython3",
   "version": "3.10.6"
  }
 },
 "nbformat": 4,
 "nbformat_minor": 2
}
