{
 "cells": [
  {
   "cell_type": "code",
   "execution_count": 1,
   "metadata": {},
   "outputs": [],
   "source": [
    "import joblib\n",
    "from tensorflow.keras.models import load_model"
   ]
  },
  {
   "cell_type": "code",
   "execution_count": 3,
   "metadata": {},
   "outputs": [
    {
     "name": "stderr",
     "output_type": "stream",
     "text": [
      "c:\\Users\\Firew Ayele\\Desktop\\kifiya\\GMF_Investments\\.venv_gmf\\lib\\site-packages\\keras\\src\\saving\\saving_lib.py:719: UserWarning: Skipping variable loading for optimizer 'rmsprop', because it has 7 variables whereas the saved optimizer has 12 variables. \n",
      "  saveable.load_own_variables(weights_store.get(inner_path))\n"
     ]
    }
   ],
   "source": [
    "# Load models\n",
    "arima_model = joblib.load(\"arima_model.pkl\")\n",
    "sarima_model = joblib.load(\"sarima_model.pkl\")\n",
    "lstm_model = load_model(\"lstm_model.keras\")"
   ]
  },
  {
   "cell_type": "code",
   "execution_count": 4,
   "metadata": {},
   "outputs": [],
   "source": [
    "#  use for forecasting ARIMA, SARIMA,\n",
    "model = arima_model  \n",
    "\n",
    "# Forecast parameters\n",
    "forecast_steps = 180  # For a 6-month forecast (assuming 30 trading days per month)\n"
   ]
  },
  {
   "cell_type": "code",
   "execution_count": 5,
   "metadata": {},
   "outputs": [],
   "source": [
    "# Forecast with ARIMA \n",
    "def forecast_arima_sarima(model, steps):\n",
    "    forecast = model.get_forecast(steps=steps)\n",
    "    forecast_mean = forecast.predicted_mean\n",
    "    confidence_intervals = forecast.conf_int()\n",
    "    return forecast_mean, confidence_intervals"
   ]
  }
 ],
 "metadata": {
  "kernelspec": {
   "display_name": ".venv_gmf",
   "language": "python",
   "name": "python3"
  },
  "language_info": {
   "codemirror_mode": {
    "name": "ipython",
    "version": 3
   },
   "file_extension": ".py",
   "mimetype": "text/x-python",
   "name": "python",
   "nbconvert_exporter": "python",
   "pygments_lexer": "ipython3",
   "version": "3.10.6"
  }
 },
 "nbformat": 4,
 "nbformat_minor": 2
}
