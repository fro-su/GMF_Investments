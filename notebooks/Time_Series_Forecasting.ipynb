{
 "cells": [
  {
   "cell_type": "code",
   "execution_count": 47,
   "metadata": {},
   "outputs": [],
   "source": [
    "import yfinance as yf\n",
    "import numpy as np\n",
    "import pandas as pd\n",
    "import matplotlib.pyplot as plt\n",
    "from statsmodels.tsa.arima.model import ARIMA\n",
    "from statsmodels.tsa.statespace.sarimax import SARIMAX\n",
    "from sklearn.metrics import mean_absolute_error, mean_squared_error\n",
    "from tensorflow.keras.models import Sequential\n",
    "from tensorflow.keras.layers import LSTM, Dense\n",
    "from tensorflow.keras.preprocessing.sequence import TimeseriesGenerator\n",
    "from pmdarima import auto_arima\n"
   ]
  },
  {
   "cell_type": "markdown",
   "metadata": {},
   "source": [
    "Load TSLA Data"
   ]
  },
  {
   "cell_type": "code",
   "execution_count": 48,
   "metadata": {},
   "outputs": [
    {
     "name": "stderr",
     "output_type": "stream",
     "text": [
      "[*********************100%***********************]  1 of 1 completed\n"
     ]
    }
   ],
   "source": [
    "# Load TSLA Data\n",
    "data = yf.download('TSLA', start='2015-01-01', end='2024-10-31')\n"
   ]
  },
  {
   "cell_type": "code",
   "execution_count": 49,
   "metadata": {},
   "outputs": [
    {
     "name": "stderr",
     "output_type": "stream",
     "text": [
      "C:\\Users\\Firew Ayele\\AppData\\Local\\Temp\\ipykernel_12376\\2920378769.py:2: SettingWithCopyWarning: \n",
      "A value is trying to be set on a copy of a slice from a DataFrame\n",
      "\n",
      "See the caveats in the documentation: https://pandas.pydata.org/pandas-docs/stable/user_guide/indexing.html#returning-a-view-versus-a-copy\n",
      "  tsla_data.dropna(inplace=True)\n"
     ]
    }
   ],
   "source": [
    "tsla_data = data[['Close']]\n",
    "tsla_data.dropna(inplace=True)"
   ]
  },
  {
   "cell_type": "markdown",
   "metadata": {},
   "source": [
    "Train-Test Split"
   ]
  },
  {
   "cell_type": "code",
   "execution_count": 50,
   "metadata": {},
   "outputs": [],
   "source": [
    "# Train-Test Split (80% train, 20% test)\n",
    "train_size = int(len(tsla_data) * 0.8)\n",
    "train, test = tsla_data[:train_size], tsla_data[train_size:]"
   ]
  },
  {
   "cell_type": "markdown",
   "metadata": {},
   "source": [
    "calculate evaluation metrics"
   ]
  },
  {
   "cell_type": "code",
   "execution_count": 51,
   "metadata": {},
   "outputs": [],
   "source": [
    "# Helper function to calculate evaluation metrics\n",
    "def evaluate_model(test, predictions):\n",
    "    mae = mean_absolute_error(test, predictions)\n",
    "    rmse = np.sqrt(mean_squared_error(test, predictions))\n",
    "    mape = np.mean(np.abs((test - predictions) / test)) * 100\n",
    "    return mae, rmse, mape"
   ]
  },
  {
   "cell_type": "markdown",
   "metadata": {},
   "source": [
    "# ARIMA Model"
   ]
  },
  {
   "cell_type": "code",
   "execution_count": 52,
   "metadata": {},
   "outputs": [
    {
     "name": "stdout",
     "output_type": "stream",
     "text": [
      "Performing stepwise search to minimize aic\n",
      " ARIMA(2,1,2)(0,0,0)[0] intercept   : AIC=12345.046, Time=1.76 sec\n",
      " ARIMA(0,1,0)(0,0,0)[0] intercept   : AIC=12340.889, Time=0.07 sec\n",
      " ARIMA(1,1,0)(0,0,0)[0] intercept   : AIC=12339.852, Time=0.14 sec\n",
      " ARIMA(0,1,1)(0,0,0)[0] intercept   : AIC=12339.956, Time=0.25 sec\n",
      " ARIMA(0,1,0)(0,0,0)[0]             : AIC=12339.337, Time=0.04 sec\n",
      " ARIMA(1,1,1)(0,0,0)[0] intercept   : AIC=12341.053, Time=0.66 sec\n",
      "\n",
      "Best model:  ARIMA(0,1,0)(0,0,0)[0]          \n",
      "Total fit time: 3.105 seconds\n",
      "Optimal ARIMA order: (0, 1, 0)\n"
     ]
    }
   ],
   "source": [
    "# Use auto_arima to find optimal (p, d, q) parameters\n",
    "auto_arima_model = auto_arima(train, seasonal=False, trace=True, error_action='ignore', suppress_warnings=True)\n",
    "arima_order = auto_arima_model.order\n",
    "print(\"Optimal ARIMA order:\", arima_order)"
   ]
  },
  {
   "cell_type": "markdown",
   "metadata": {},
   "source": [
    "Train ARIMA model"
   ]
  },
  {
   "cell_type": "code",
   "execution_count": 53,
   "metadata": {},
   "outputs": [
    {
     "name": "stderr",
     "output_type": "stream",
     "text": [
      "c:\\Users\\Firew Ayele\\Desktop\\kifiya\\GMF_Investments\\.venv_gmf\\lib\\site-packages\\statsmodels\\tsa\\base\\tsa_model.py:473: ValueWarning: A date index has been provided, but it has no associated frequency information and so will be ignored when e.g. forecasting.\n",
      "  self._init_dates(dates, freq)\n",
      "c:\\Users\\Firew Ayele\\Desktop\\kifiya\\GMF_Investments\\.venv_gmf\\lib\\site-packages\\statsmodels\\tsa\\base\\tsa_model.py:473: ValueWarning: A date index has been provided, but it has no associated frequency information and so will be ignored when e.g. forecasting.\n",
      "  self._init_dates(dates, freq)\n",
      "c:\\Users\\Firew Ayele\\Desktop\\kifiya\\GMF_Investments\\.venv_gmf\\lib\\site-packages\\statsmodels\\tsa\\base\\tsa_model.py:473: ValueWarning: A date index has been provided, but it has no associated frequency information and so will be ignored when e.g. forecasting.\n",
      "  self._init_dates(dates, freq)\n"
     ]
    }
   ],
   "source": [
    "# Train ARIMA model\n",
    "arima_model = ARIMA(train, order=arima_order)\n",
    "arima_model_fit = arima_model.fit()"
   ]
  },
  {
   "cell_type": "markdown",
   "metadata": {},
   "source": [
    "Forecast"
   ]
  },
  {
   "cell_type": "code",
   "execution_count": 74,
   "metadata": {},
   "outputs": [
    {
     "name": "stderr",
     "output_type": "stream",
     "text": [
      "c:\\Users\\Firew Ayele\\Desktop\\kifiya\\GMF_Investments\\.venv_gmf\\lib\\site-packages\\statsmodels\\tsa\\base\\tsa_model.py:837: ValueWarning: No supported index is available. Prediction results will be given with an integer index beginning at `start`.\n",
      "  return get_prediction_index(\n"
     ]
    }
   ],
   "source": [
    "\n",
    "# Generate forecast and align with test index\n",
    "arima_forecast = arima_model_fit.forecast(steps=len(test))\n",
    "arima_forecast_series = pd.Series(arima_forecast, index=test.index)\n",
    "\n",
    "# Handle NaN values by filling them with zeros (or you could drop them, if preferred)\n",
    "# test = test.fillna(0)\n",
    "# arima_forecast_series = arima_forecast_series.fillna(0)\n",
    "# Drop NaNs in both test and forecast series\n",
    "test = test.dropna()\n",
    "arima_forecast_series = arima_forecast_series.dropna()\n",
    "\n",
    "arima_forecast_series = arima_forecast_series.reindex(test.index, fill_value=0)\n",
    "\n"
   ]
  },
  {
   "cell_type": "code",
   "execution_count": 75,
   "metadata": {},
   "outputs": [
    {
     "name": "stdout",
     "output_type": "stream",
     "text": [
      "Test Index Name: Date\n",
      "ARIMA Forecast Series Index Name: Date\n"
     ]
    }
   ],
   "source": [
    "print(\"Test Index Name:\", test.index.name)\n",
    "print(\"ARIMA Forecast Series Index Name:\", arima_forecast_series.index.name)\n"
   ]
  },
  {
   "cell_type": "code",
   "execution_count": 76,
   "metadata": {},
   "outputs": [
    {
     "name": "stdout",
     "output_type": "stream",
     "text": [
      "Dates in Test not in ARIMA Forecast: DatetimeIndex([], dtype='datetime64[ns, UTC]', name='Date', freq=None)\n",
      "Dates in ARIMA Forecast not in Test: DatetimeIndex([], dtype='datetime64[ns, UTC]', name='Date', freq=None)\n"
     ]
    }
   ],
   "source": [
    "print(\"Dates in Test not in ARIMA Forecast:\", test.index.difference(arima_forecast_series.index))\n",
    "print(\"Dates in ARIMA Forecast not in Test:\", arima_forecast_series.index.difference(test.index))\n"
   ]
  },
  {
   "cell_type": "code",
   "execution_count": 77,
   "metadata": {},
   "outputs": [],
   "source": [
    "test.index = test.index.tz_convert('UTC')\n",
    "arima_forecast_series.index = arima_forecast_series.index.tz_convert('UTC')\n"
   ]
  },
  {
   "cell_type": "code",
   "execution_count": 78,
   "metadata": {},
   "outputs": [],
   "source": [
    "test = test.squeeze()  # Convert to Series if it's a single-column DataFrame\n",
    "arima_forecast_series = arima_forecast_series.squeeze()\n"
   ]
  },
  {
   "cell_type": "code",
   "execution_count": 79,
   "metadata": {},
   "outputs": [],
   "source": [
    "test.index.name = 'Date'\n",
    "arima_forecast_series.index.name = 'Date'\n"
   ]
  },
  {
   "cell_type": "code",
   "execution_count": 80,
   "metadata": {},
   "outputs": [
    {
     "name": "stdout",
     "output_type": "stream",
     "text": [
      "ARIMA Evaluation Metrics - MAE: 207.94214132289693 RMSE: 211.4964950202064 MAPE: 100.0\n"
     ]
    }
   ],
   "source": [
    "mae, rmse, mape = evaluate_model(test, arima_forecast_series)\n",
    "print(\"ARIMA Evaluation Metrics - MAE:\", mae, \"RMSE:\", rmse, \"MAPE:\", mape)\n"
   ]
  },
  {
   "cell_type": "markdown",
   "metadata": {},
   "source": [
    "# SARIMA Model"
   ]
  },
  {
   "cell_type": "code",
   "execution_count": 81,
   "metadata": {},
   "outputs": [
    {
     "name": "stdout",
     "output_type": "stream",
     "text": [
      "Performing stepwise search to minimize aic\n",
      " ARIMA(2,1,2)(1,0,1)[12] intercept   : AIC=12337.622, Time=4.23 sec\n",
      " ARIMA(0,1,0)(0,0,0)[12] intercept   : AIC=12340.889, Time=0.04 sec\n",
      " ARIMA(1,1,0)(1,0,0)[12] intercept   : AIC=12340.375, Time=0.78 sec\n",
      " ARIMA(0,1,1)(0,0,1)[12] intercept   : AIC=12340.797, Time=1.41 sec\n",
      " ARIMA(0,1,0)(0,0,0)[12]             : AIC=12339.337, Time=0.08 sec\n",
      " ARIMA(2,1,2)(0,0,1)[12] intercept   : AIC=12345.594, Time=4.39 sec\n",
      " ARIMA(2,1,2)(1,0,0)[12] intercept   : AIC=12345.207, Time=5.40 sec\n",
      " ARIMA(2,1,2)(2,0,1)[12] intercept   : AIC=12315.154, Time=16.71 sec\n",
      " ARIMA(2,1,2)(2,0,0)[12] intercept   : AIC=12313.154, Time=14.87 sec\n",
      " ARIMA(1,1,2)(2,0,0)[12] intercept   : AIC=12311.156, Time=8.73 sec\n",
      " ARIMA(1,1,2)(1,0,0)[12] intercept   : AIC=12343.201, Time=3.93 sec\n",
      " ARIMA(1,1,2)(2,0,1)[12] intercept   : AIC=12313.155, Time=18.20 sec\n",
      " ARIMA(1,1,2)(1,0,1)[12] intercept   : AIC=12335.607, Time=9.19 sec\n",
      " ARIMA(0,1,2)(2,0,0)[12] intercept   : AIC=12309.410, Time=6.35 sec\n",
      " ARIMA(0,1,2)(1,0,0)[12] intercept   : AIC=12341.637, Time=2.22 sec\n",
      " ARIMA(0,1,2)(2,0,1)[12] intercept   : AIC=12311.409, Time=12.31 sec\n",
      " ARIMA(0,1,2)(1,0,1)[12] intercept   : AIC=12334.244, Time=5.23 sec\n",
      " ARIMA(0,1,1)(2,0,0)[12] intercept   : AIC=12308.605, Time=5.58 sec\n",
      " ARIMA(0,1,1)(1,0,0)[12] intercept   : AIC=12340.495, Time=2.58 sec\n",
      " ARIMA(0,1,1)(2,0,1)[12] intercept   : AIC=12310.604, Time=7.89 sec\n",
      " ARIMA(0,1,1)(1,0,1)[12] intercept   : AIC=12333.451, Time=3.79 sec\n",
      " ARIMA(0,1,0)(2,0,0)[12] intercept   : AIC=12309.188, Time=3.94 sec\n",
      " ARIMA(1,1,1)(2,0,0)[12] intercept   : AIC=12309.266, Time=11.39 sec\n",
      " ARIMA(1,1,0)(2,0,0)[12] intercept   : AIC=12308.477, Time=6.96 sec\n",
      " ARIMA(1,1,0)(2,0,1)[12] intercept   : AIC=12310.476, Time=9.76 sec\n",
      " ARIMA(1,1,0)(1,0,1)[12] intercept   : AIC=12333.322, Time=3.90 sec\n",
      " ARIMA(2,1,0)(2,0,0)[12] intercept   : AIC=12309.351, Time=8.17 sec\n",
      " ARIMA(2,1,1)(2,0,0)[12] intercept   : AIC=12309.810, Time=21.24 sec\n",
      " ARIMA(1,1,0)(2,0,0)[12]             : AIC=12306.786, Time=3.98 sec\n",
      " ARIMA(1,1,0)(1,0,0)[12]             : AIC=12338.831, Time=1.69 sec\n",
      " ARIMA(1,1,0)(2,0,1)[12]             : AIC=12308.784, Time=8.00 sec\n",
      " ARIMA(1,1,0)(1,0,1)[12]             : AIC=12331.653, Time=4.94 sec\n",
      " ARIMA(0,1,0)(2,0,0)[12]             : AIC=12307.472, Time=2.39 sec\n",
      " ARIMA(2,1,0)(2,0,0)[12]             : AIC=12307.640, Time=2.97 sec\n",
      " ARIMA(1,1,1)(2,0,0)[12]             : AIC=12307.566, Time=11.16 sec\n",
      " ARIMA(0,1,1)(2,0,0)[12]             : AIC=12306.913, Time=3.64 sec\n",
      " ARIMA(2,1,1)(2,0,0)[12]             : AIC=12308.052, Time=9.13 sec\n",
      "\n",
      "Best model:  ARIMA(1,1,0)(2,0,0)[12]          \n",
      "Total fit time: 247.357 seconds\n",
      "Optimal SARIMA order: (1, 1, 0) Seasonal order: (2, 0, 0, 12)\n"
     ]
    }
   ],
   "source": [
    "# Use auto_arima to find optimal SARIMA parameters\n",
    "auto_sarima_model = auto_arima(train, seasonal=True, m=12, trace=True, error_action='ignore', suppress_warnings=True)\n",
    "sarima_order = auto_sarima_model.order\n",
    "sarima_seasonal_order = auto_sarima_model.seasonal_order\n",
    "print(\"Optimal SARIMA order:\", sarima_order, \"Seasonal order:\", sarima_seasonal_order)\n"
   ]
  },
  {
   "cell_type": "markdown",
   "metadata": {},
   "source": [
    "Train SARIMA model"
   ]
  },
  {
   "cell_type": "code",
   "execution_count": 82,
   "metadata": {},
   "outputs": [
    {
     "name": "stderr",
     "output_type": "stream",
     "text": [
      "c:\\Users\\Firew Ayele\\Desktop\\kifiya\\GMF_Investments\\.venv_gmf\\lib\\site-packages\\statsmodels\\tsa\\base\\tsa_model.py:473: ValueWarning: A date index has been provided, but it has no associated frequency information and so will be ignored when e.g. forecasting.\n",
      "  self._init_dates(dates, freq)\n",
      "c:\\Users\\Firew Ayele\\Desktop\\kifiya\\GMF_Investments\\.venv_gmf\\lib\\site-packages\\statsmodels\\tsa\\base\\tsa_model.py:473: ValueWarning: A date index has been provided, but it has no associated frequency information and so will be ignored when e.g. forecasting.\n",
      "  self._init_dates(dates, freq)\n"
     ]
    }
   ],
   "source": [
    "# Train SARIMA model\n",
    "sarima_model = SARIMAX(train, order=sarima_order, seasonal_order=sarima_seasonal_order)\n",
    "sarima_model_fit = sarima_model.fit(disp=False)"
   ]
  },
  {
   "cell_type": "code",
   "execution_count": null,
   "metadata": {},
   "outputs": [],
   "source": []
  }
 ],
 "metadata": {
  "kernelspec": {
   "display_name": ".venv_gmf",
   "language": "python",
   "name": "python3"
  },
  "language_info": {
   "codemirror_mode": {
    "name": "ipython",
    "version": 3
   },
   "file_extension": ".py",
   "mimetype": "text/x-python",
   "name": "python",
   "nbconvert_exporter": "python",
   "pygments_lexer": "ipython3",
   "version": "3.10.6"
  }
 },
 "nbformat": 4,
 "nbformat_minor": 2
}
